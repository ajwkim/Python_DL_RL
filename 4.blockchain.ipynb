{
 "cells": [
  {
   "cell_type": "code",
   "execution_count": 5,
   "metadata": {},
   "outputs": [],
   "source": [
    "from IPython.core.interactiveshell import InteractiveShell\n",
    "InteractiveShell.ast_node_interactivity = 'all'             # 'last_expr' 기본 / 'all'\n",
    "\n",
    "from pprint import pprint"
   ]
  },
  {
   "cell_type": "markdown",
   "metadata": {},
   "source": [
    "# 블록체인 개요"
   ]
  },
  {
   "cell_type": "markdown",
   "metadata": {},
   "source": [
    "- 기술적 아이디어는 1991년 과학자 Stuart Haber와 W. Scott Stornetta에 의해 제시, 2008년 사토시 나카모토에 의해 탈중앙화 개인 간 전자 지불 시스템인 비트코인이 소개됨\n",
    "- 분산원장기술은 중앙 서버/관리자 제어 없이 분산화된 네트워크의 각 노드들이 데이터베이스를 공유하고 동기화하는 기술\n",
    "- 스마트 컨트랙트는 제3의 인증기관 없이 개인 간 계약이 가능\n",
    "- 블록체인: 데이터가 저장된 **블록**이 연결(**체인**)되어 있는 것"
   ]
  },
  {
   "cell_type": "code",
   "execution_count": 4,
   "metadata": {},
   "outputs": [
    {
     "name": "stdout",
     "output_type": "stream",
     "text": [
      "{'buyer': '박명수',\n",
      " 'count': 3,\n",
      " 'index': 2,\n",
      " 'previous_block': {'buyer': '김영수',\n",
      "                    'count': 3,\n",
      "                    'index': 1,\n",
      "                    'previous_block': {'buyer': '김민수',\n",
      "                                       'count': 3,\n",
      "                                       'index': 0,\n",
      "                                       'previous_block': None,\n",
      "                                       'seller': '파이썬',\n",
      "                                       'time': '1990-01-01 00:00:00'},\n",
      "                    'seller': '김민수',\n",
      "                    'time': '1990-01-02 01:02:03'},\n",
      " 'seller': '김영수',\n",
      " 'time': '1990-01-03 02:03:04'}\n"
     ]
    }
   ],
   "source": [
    "# blockchain 예: 거래 내역\n",
    "\n",
    "block1 = dict(index=0, seller='파이썬', buyer='김민수', count=3, time='1990-01-01 00:00:00', previous_block=None)\n",
    "block2 = dict(index=1, seller='김민수', buyer='김영수', count=3, time='1990-01-02 01:02:03', previous_block=block1)\n",
    "block3 = dict(index=2, seller='김영수', buyer='박명수', count=3, time='1990-01-03 02:03:04', previous_block=block2)\n",
    "\n",
    "pprint(block3)      # previous_block이 체인 역할"
   ]
  },
  {
   "cell_type": "code",
   "execution_count": 8,
   "metadata": {},
   "outputs": [
    {
     "data": {
      "text/plain": [
       "'bd6341f9f5f40ffd309379c106165b4a064e8d90e9406016cc6b5638bed4f15c'"
      ]
     },
     "execution_count": 8,
     "metadata": {},
     "output_type": "execute_result"
    },
    {
     "data": {
      "text/plain": [
       "'94a6771df8c6866a45d404598f230766a8faae53e7bd579eff9e5bdbe20b170a'"
      ]
     },
     "execution_count": 8,
     "metadata": {},
     "output_type": "execute_result"
    },
    {
     "data": {
      "text/plain": [
       "'03ac674216f3e15c761ee1a5e255f067953623c8b388b4459e13f978d7c846f4'"
      ]
     },
     "execution_count": 8,
     "metadata": {},
     "output_type": "execute_result"
    },
    {
     "data": {
      "text/plain": [
       "'66ece92b55ff7ca5b565d0c82c5a0cf2e582fd6162d47cc34270a3ba0447b91b'"
      ]
     },
     "execution_count": 8,
     "metadata": {},
     "output_type": "execute_result"
    },
    {
     "data": {
      "text/plain": [
       "'bd6341f9f5f40ffd309379c106165b4a064e8d90e9406016cc6b5638bed4f15c'"
      ]
     },
     "execution_count": 8,
     "metadata": {},
     "output_type": "execute_result"
    },
    {
     "data": {
      "text/plain": [
       "64"
      ]
     },
     "execution_count": 8,
     "metadata": {},
     "output_type": "execute_result"
    }
   ],
   "source": [
    "import hashlib\n",
    "\n",
    "def sha(data):\n",
    "    return hashlib.sha256(str(data).encode()).hexdigest()\n",
    "\n",
    "sha('원본텍스트')\n",
    "sha('원본 텍스트')\n",
    "sha('1234')\n",
    "sha('''동해물과 백두산이 마르고 닳도록\n",
    "하느님이 보유하사 우리나라 만세.\n",
    "무궁화 삼천리 화려 강산\n",
    "대한 사람, 대한으로 길이 보전하세.''')\n",
    "\n",
    "sha('원본텍스트')\n",
    "len(sha('원본텍스트'))"
   ]
  },
  {
   "cell_type": "code",
   "execution_count": 10,
   "metadata": {},
   "outputs": [
    {
     "data": {
      "text/plain": [
       "{'index': 2,\n",
       " 'seller': '김영수',\n",
       " 'buyer': '박명수',\n",
       " 'count': 3,\n",
       " 'time': '1990-01-03 02:03:04',\n",
       " 'previous_block': '67e031efb80d7499a5af3b4ae68d82feb6e7ff5b8fa9d7ef13ac0654072774bf'}"
      ]
     },
     "execution_count": 10,
     "metadata": {},
     "output_type": "execute_result"
    }
   ],
   "source": [
    "block3 = dict(index=2, seller='김영수', buyer='박명수', count=3, time='1990-01-03 02:03:04', previous_block=sha(block2))\n",
    "block3"
   ]
  },
  {
   "cell_type": "markdown",
   "metadata": {},
   "source": [
    "- 암호해시 알고리즘(SHA: Secure Hash Algorithm)에 의한 해시값은 동일한 값을 입력하면 항상 동일한 결과값을 출력(일관성), 원본 내역을 유추할 수 없음\n",
    "- 과거 데이터가 조금이라도 조작되면 해시값은 완전히 다른 결과"
   ]
  },
  {
   "cell_type": "code",
   "execution_count": 14,
   "metadata": {},
   "outputs": [
    {
     "name": "stdout",
     "output_type": "stream",
     "text": [
      "0 x0 b70a14ee1e15d7aa94bd810ec06f4cb77a346e8f33aef6bfeae3d7c4442d7a93\n",
      "1 x1 ec31682fde561917952ff78a7a8adeffd0febc372dd26871916c46c630381b45\n",
      "2 x2 844ecc08164e2eab27634a9adee1afa6599e589570e719784e080ce747fc0e45\n",
      "3 x3 844b69c4d54cc264bc2dadb6bb70f53bc123beafc0f58d81ed8cd4a07c24a5a7\n",
      "4 x4 7985b0c8b858e77f57c6d403b315ade04d2485d6ec2d09694256eadd20db6f27\n",
      "5 x5 29f2394eb92d0ded9247b8d7188ebddae3e13c71ebcf939302619b29604486b0\n",
      "6 x6 0520220e0f12bb847b57ad4bb3dfe908368a1057a7028b92186e73769fe3cc62\n",
      "7 x7 8cf3ebbdacddfddd6f13673f945f523cc9813df2fcdf2a420a230d283bdf4a7a\n",
      "8 x8 240a42374fa81d24508638282a416c46b2ff7d1dc529871e7151e5eeffd77b13\n",
      "9 x9 05bb5f0450bd7ae843ecf0b0a59698fd93d83a3930686eb7cfcf33fbb26edde4\n",
      "10 x10 96a610aee3735ad666d7a40a0f030498b6b8b26ea3240a7308723b61a7794a87\n",
      "11 x11 fe372293ac6fc8767d248278e9ceacbb53aa57de8d3b30ef20813933935d1332\n",
      "12 x12 5e4a4501365904b94838dd24be8a53991d1603a594a63e164fc0eab361d325b5\n",
      "13 x13 39057a823b9254598da869d8cafc1496d6f7197ba1a6016a637f747afa1e6f89\n",
      "14 x14 ae010e6fdfaf2fe895c5a3aa787c1a4049478496437b555667c40f2120d36c7b\n"
     ]
    }
   ],
   "source": [
    "# 채굴\n",
    "\n",
    "import string, random, itertools\n",
    "\n",
    "PROBLEM = 'a'\n",
    "DIFFICULTY = 1\n",
    "\n",
    "start_nonce = random.choice(string.ascii_letters)\n",
    "for i in itertools.count():\n",
    "    nonce = start_nonce + str(i)\n",
    "    nonce_sha = sha(nonce)\n",
    "    print(i, nonce, nonce_sha)\n",
    "    if nonce_sha[:DIFFICULTY] == PROBLEM * DIFFICULTY:\n",
    "        break"
   ]
  },
  {
   "cell_type": "markdown",
   "metadata": {},
   "source": [
    "# 암호화 라이브러리"
   ]
  },
  {
   "cell_type": "code",
   "execution_count": null,
   "metadata": {},
   "outputs": [
    {
     "data": {
      "text/plain": [
       "(64, '315f5bdb76d078c43b8ac0064e4a0164612b1fce77c869345bfc94c75894edd3')"
      ]
     },
     "metadata": {},
     "output_type": "display_data"
    }
   ],
   "source": [
    "import hashlib\n",
    "\n",
    "hash_obj = hashlib.sha256()\n",
    "hash_obj.update(b'Hello, world!')\n",
    "\n",
    "hex_dig = hash_obj.hexdigest()\n",
    "len(hex_dig), hex_dig"
   ]
  },
  {
   "cell_type": "code",
   "execution_count": null,
   "metadata": {},
   "outputs": [],
   "source": [
    "# PyCryptodome\n",
    "# ecdsa\n",
    "# bitstring\n",
    "# petlib\n",
    "# PyNaCl"
   ]
  },
  {
   "cell_type": "markdown",
   "metadata": {},
   "source": [
    "# Flask"
   ]
  },
  {
   "cell_type": "code",
   "execution_count": 16,
   "metadata": {},
   "outputs": [
    {
     "name": "stdout",
     "output_type": "stream",
     "text": [
      " * Serving Flask app '__main__'\n",
      " * Debug mode: off\n"
     ]
    },
    {
     "name": "stderr",
     "output_type": "stream",
     "text": [
      "\u001b[31m\u001b[1mWARNING: This is a development server. Do not use it in a production deployment. Use a production WSGI server instead.\u001b[0m\n",
      " * Running on http://127.0.0.1:5000\n",
      "\u001b[33mPress CTRL+C to quit\u001b[0m\n",
      "127.0.0.1 - - [19/Jun/2024 15:11:15] \"GET / HTTP/1.1\" 200 -\n"
     ]
    }
   ],
   "source": [
    "from flask import Flask\n",
    "\n",
    "app = Flask(__name__)\n",
    "\n",
    "@app.route('/')\n",
    "def index():\n",
    "    return 'Flask 웹사이트!'\n",
    "\n",
    "app.run()"
   ]
  },
  {
   "cell_type": "code",
   "execution_count": 18,
   "metadata": {},
   "outputs": [
    {
     "name": "stdout",
     "output_type": "stream",
     "text": [
      " * Serving Flask app '__main__'\n",
      " * Debug mode: off\n"
     ]
    },
    {
     "name": "stderr",
     "output_type": "stream",
     "text": [
      "\u001b[31m\u001b[1mWARNING: This is a development server. Do not use it in a production deployment. Use a production WSGI server instead.\u001b[0m\n",
      " * Running on http://127.0.0.1:5000\n",
      "\u001b[33mPress CTRL+C to quit\u001b[0m\n",
      "127.0.0.1 - - [19/Jun/2024 15:14:27] \"GET / HTTP/1.1\" 200 -\n",
      "127.0.0.1 - - [19/Jun/2024 15:14:38] \"GET /html_sample HTTP/1.1\" 200 -\n"
     ]
    }
   ],
   "source": [
    "from flask import Flask, render_template\n",
    "import datetime as dt\n",
    "\n",
    "app = Flask(__name__)\n",
    "\n",
    "@app.route('/')\n",
    "def index():\n",
    "    return 'Flask 웹사이트'\n",
    "\n",
    "@app.route('/html_sample')\n",
    "def html_sample():\n",
    "    return render_template('sample.html')       # templates/파일명.html\n",
    "\n",
    "app.run()"
   ]
  },
  {
   "cell_type": "code",
   "execution_count": 19,
   "metadata": {},
   "outputs": [
    {
     "name": "stdout",
     "output_type": "stream",
     "text": [
      " * Serving Flask app '__main__'\n",
      " * Debug mode: off\n"
     ]
    },
    {
     "name": "stderr",
     "output_type": "stream",
     "text": [
      "\u001b[31m\u001b[1mWARNING: This is a development server. Do not use it in a production deployment. Use a production WSGI server instead.\u001b[0m\n",
      " * Running on http://127.0.0.1:5000\n",
      "\u001b[33mPress CTRL+C to quit\u001b[0m\n",
      "127.0.0.1 - - [19/Jun/2024 15:18:11] \"GET / HTTP/1.1\" 200 -\n",
      "127.0.0.1 - - [19/Jun/2024 15:18:20] \"GET /sample_backend HTTP/1.1\" 200 -\n"
     ]
    }
   ],
   "source": [
    "from flask import Flask, render_template\n",
    "import datetime as dt\n",
    "\n",
    "app = Flask(__name__)\n",
    "\n",
    "@app.route('/')\n",
    "def index():\n",
    "    return 'Flask 웹사이트'\n",
    "\n",
    "@app.route('/sample_backend')\n",
    "def sample_backend():\n",
    "    return render_template('sample_backend.html', backend_result='1000개')       # templates/파일명.html\n",
    "\n",
    "app.run()"
   ]
  },
  {
   "cell_type": "code",
   "execution_count": 23,
   "metadata": {},
   "outputs": [
    {
     "name": "stdout",
     "output_type": "stream",
     "text": [
      " * Serving Flask app '__main__'\n",
      " * Debug mode: off\n"
     ]
    },
    {
     "name": "stderr",
     "output_type": "stream",
     "text": [
      "\u001b[31m\u001b[1mWARNING: This is a development server. Do not use it in a production deployment. Use a production WSGI server instead.\u001b[0m\n",
      " * Running on http://127.0.0.1:5000\n",
      "\u001b[33mPress CTRL+C to quit\u001b[0m\n",
      "127.0.0.1 - - [19/Jun/2024 15:44:45] \"GET / HTTP/1.1\" 200 -\n",
      "127.0.0.1 - - [19/Jun/2024 15:44:49] \"GET /login HTTP/1.1\" 200 -\n",
      "127.0.0.1 - - [19/Jun/2024 15:44:55] \"POST /login HTTP/1.1\" 200 -\n"
     ]
    },
    {
     "name": "stdout",
     "output_type": "stream",
     "text": [
      "\n",
      "login 버튼 누름\n",
      "{'wallet_id': ['1'], 'password': ['22']}\n"
     ]
    },
    {
     "name": "stderr",
     "output_type": "stream",
     "text": [
      "127.0.0.1 - - [19/Jun/2024 15:45:02] \"POST /login HTTP/1.1\" 200 -\n"
     ]
    },
    {
     "name": "stdout",
     "output_type": "stream",
     "text": [
      "\n",
      "login 버튼 누름\n",
      "{'wallet_id': ['Python'], 'password': ['Blockchain']}\n",
      "로그인 성공\n"
     ]
    }
   ],
   "source": [
    "from flask import Flask, request, render_template\n",
    "import datetime as dt\n",
    "\n",
    "app = Flask(__name__)\n",
    "test_id = 'Python'\n",
    "test_pw = 'Blockchain'\n",
    "\n",
    "@app.route('/')\n",
    "def index():\n",
    "    return 'Flask 웹사이트'\n",
    "\n",
    "@app.route('/sample_backend')\n",
    "def sample_backend():\n",
    "    return render_template('sample_backend.html', backend_result='1000개')       # templates/파일명.html\n",
    "\n",
    "@app.route('/login', methods=['GET', 'POST'])\n",
    "def login():\n",
    "    if request.method == 'POST':\n",
    "        print('\\nlogin 버튼 누름')\n",
    "        value = request.form.to_dict(flat=False)\n",
    "        print(value)\n",
    "        if value['wallet_id'][0]==test_id and value['password'][0]==test_pw:\n",
    "            print('로그인 성공')\n",
    "            return '로그인성공!!!!!'\n",
    "        else:\n",
    "            return render_template('login.html')\n",
    "    return render_template('login.html')\n",
    "\n",
    "app.run()"
   ]
  },
  {
   "cell_type": "code",
   "execution_count": null,
   "metadata": {},
   "outputs": [],
   "source": []
  },
  {
   "cell_type": "markdown",
   "metadata": {},
   "source": [
    "# 비트코인 PoW"
   ]
  },
  {
   "cell_type": "markdown",
   "metadata": {},
   "source": [
    "## one-node"
   ]
  },
  {
   "cell_type": "markdown",
   "metadata": {},
   "source": [
    "### 운영"
   ]
  },
  {
   "cell_type": "code",
   "execution_count": 26,
   "metadata": {},
   "outputs": [],
   "source": [
    "# pow_one_node.py\n",
    "\n",
    "import time, random, json, hashlib\n",
    "from flask import Flask, request, jsonify\n",
    "\n",
    "PROBLEM = '0'\n",
    "DIFFICULTY = 4\n",
    "\n",
    "def _hash(block):       # hashes a block\n",
    "    block_str = json.dumps(block, sort_keys=True)\n",
    "    return hashlib.sha256(block_str.encode()).hexdigest()\n",
    "\n",
    "def valid_proof(last_proof, proof):\n",
    "    guess = str(last_proof + proof)\n",
    "    guess_hash = hashlib.sha256(guess.encode()).hexdigest()\n",
    "    return guess_hash[:DIFFICULTY] == PROBLEM * DIFFICULTY\n",
    "\n",
    "def valid_chain(chain):\n",
    "    return all(block['previous_hash'] == _hash(last_block)\n",
    "               for last_block, block in zip(chain, chain[1:]))\n",
    "\n",
    "def _pow(last_proof):\n",
    "    while not valid_proof(last_proof, proof:=random.randrange(-100_0000, 100_0001)):\n",
    "        pass\n",
    "    return proof\n",
    "\n",
    "\n",
    "class Blockchain:\n",
    "    def __init__(self):\n",
    "        self.chain = []\n",
    "        self.current_transactions = []\n",
    "        self.new_block(previous_hash=1, proof=100)\n",
    "\n",
    "    @property\n",
    "    def last_block(self):\n",
    "        return self.chain[-1]\n",
    "    \n",
    "    def new_transaction(self, sender, recipient, amount):\n",
    "        self.current_transactions.append(\n",
    "            dict(sender=sender, recipient=recipient, amount=amount, timestamp=time.time()))\n",
    "        return self.last_block['index'] + 1\n",
    "    \n",
    "    def new_block(self, proof, previous_hash=None):\n",
    "        block = dict(index=len(self.chain)+1,                               # 1, 2, 3, ...\n",
    "                     timestamp=time.time(),\n",
    "                     transactions=self.current_transactions,\n",
    "                     nonce=proof,\n",
    "                     previous_hash=previous_hash or _hash(self.last_block))\n",
    "        self.chain.append(block)\n",
    "        self.current_transactions = []\n",
    "        return block\n",
    "    \n",
    "\n",
    "blockchain = Blockchain()\n",
    "myip = '127.0.0.1'\n",
    "myport = '5000'\n",
    "node_identifier = 'node_' + myport\n",
    "mine_owner = 'master'\n",
    "mine_profit = .1\n",
    "\n",
    "app = Flask(__name__)\n",
    "\n",
    "@app.route('/chain', methods=['GET'])\n",
    "def full_chain():\n",
    "    print('\\nchain info requested!')\n",
    "    response = dict(chain=blockchain.chain, length=len(blockchain.chain))\n",
    "    return jsonify(response), 200\n",
    "\n",
    "@app.route('/transactions/new', methods=['POST'])\n",
    "def new_transaction():\n",
    "    values = request.get_json()\n",
    "    print('\\ntransactions_new!!!:', values)\n",
    "    required = 'sender recipient amount'.split()\n",
    "    if not all(k in values for k in required):\n",
    "        return 'missing values', 400\n",
    "    index = blockchain.new_transaction(values['sender'], values['recipient'], values['amount'])\n",
    "    response = dict(message=f'Transaction will be added to Block {index}')\n",
    "    return jsonify(response), 201\n",
    "\n",
    "@app.route('/mine', methods=['GET'])\n",
    "def mine():\n",
    "    print('\\nMINING STARTED')\n",
    "    last_proof = blockchain.last_block['nonce']\n",
    "    proof = _pow(last_proof)\n",
    "\n",
    "    blockchain.new_transaction(sender=mine_owner, recipient=node_identifier, amount=mine_profit)\n",
    "    block = blockchain.new_block(proof)\n",
    "    print('MINING FINISHED')\n",
    "    response=dict(message='new block found', \n",
    "                  index=block['index'],\n",
    "                  transactions=block['transactions'],\n",
    "                  nonce=block['nonce'],\n",
    "                  previous_hash=block['previous_hash'])\n",
    "    return jsonify(response), 200\n",
    "\n",
    "app.run(host=myip, port=myport)"
   ]
  },
  {
   "cell_type": "markdown",
   "metadata": {},
   "source": [
    "### 명령"
   ]
  },
  {
   "cell_type": "code",
   "execution_count": 3,
   "metadata": {},
   "outputs": [
    {
     "data": {
      "text/plain": [
       "{'chain': [{'index': 1,\n",
       "   'nonce': 100,\n",
       "   'previous_hash': 1,\n",
       "   'timestamp': 1718842311.55508,\n",
       "   'transactions': []}],\n",
       " 'length': 1}"
      ]
     },
     "execution_count": 3,
     "metadata": {},
     "output_type": "execute_result"
    }
   ],
   "source": [
    "# one-node command\n",
    "\n",
    "import json, requests\n",
    "\n",
    "myip = '127.0.0.1'\n",
    "myport = '5000'\n",
    "baseurl = f'http://{myip}:{myport}'\n",
    "headers = {'Content-Type': 'application/json; charset=utf-8'}\n",
    "\n",
    "res = requests.get(baseurl + '/chain', headers=headers)\n",
    "json.loads(res.content)"
   ]
  },
  {
   "cell_type": "code",
   "execution_count": 4,
   "metadata": {},
   "outputs": [
    {
     "data": {
      "text/plain": [
       "b'{\"message\":\"Transaction will be added to Block 2\"}\\n'"
      ]
     },
     "execution_count": 4,
     "metadata": {},
     "output_type": "execute_result"
    }
   ],
   "source": [
    "tx = dict(sender='test_from', recipient='test_to', amount=3)\n",
    "\n",
    "res = requests.post(baseurl + '/transactions/new', headers=headers, data=json.dumps(tx))\n",
    "res.content"
   ]
  },
  {
   "cell_type": "code",
   "execution_count": 42,
   "metadata": {},
   "outputs": [
    {
     "data": {
      "text/plain": [
       "{'chain': [{'index': 1,\n",
       "   'nonce': 100,\n",
       "   'previous_hash': 1,\n",
       "   'timestamp': 1718784935.747334,\n",
       "   'transactions': []}],\n",
       " 'length': 1}"
      ]
     },
     "execution_count": 42,
     "metadata": {},
     "output_type": "execute_result"
    }
   ],
   "source": [
    "# 아직 작업증명(채굴)이 이루어지지 않아 블록은 변화 없음\n",
    "\n",
    "res = requests.get(baseurl + '/chain', headers=headers)\n",
    "json.loads(res.content)"
   ]
  },
  {
   "cell_type": "code",
   "execution_count": 5,
   "metadata": {},
   "outputs": [
    {
     "name": "stdout",
     "output_type": "stream",
     "text": [
      "<Response [200]>\n",
      "{\"index\":2,\"message\":\"new block found\",\"nonce\":665682,\"previous_hash\":\"cb3558834cbfe8e74bf52c804d1b4ca6ce488ae42702bdb8c436b464d8482a26\",\"transactions\":[{\"amount\":3,\"recipient\":\"test_to\",\"sender\":\"test_from\",\"timestamp\":1718842346.258349},{\"amount\":0.1,\"recipient\":\"node_5000\",\"sender\":\"master\",\"timestamp\":1718842354.5451891}]}\n",
      "\n"
     ]
    }
   ],
   "source": [
    "# 작업증명\n",
    "\n",
    "res = requests.get(baseurl + '/mine')\n",
    "print(res)\n",
    "print(res.text)"
   ]
  },
  {
   "cell_type": "code",
   "execution_count": 6,
   "metadata": {},
   "outputs": [
    {
     "data": {
      "text/plain": [
       "{'chain': [{'index': 1,\n",
       "   'nonce': 100,\n",
       "   'previous_hash': 1,\n",
       "   'timestamp': 1718842311.55508,\n",
       "   'transactions': []},\n",
       "  {'index': 2,\n",
       "   'nonce': 665682,\n",
       "   'previous_hash': 'cb3558834cbfe8e74bf52c804d1b4ca6ce488ae42702bdb8c436b464d8482a26',\n",
       "   'timestamp': 1718842354.545194,\n",
       "   'transactions': [{'amount': 3,\n",
       "     'recipient': 'test_to',\n",
       "     'sender': 'test_from',\n",
       "     'timestamp': 1718842346.258349},\n",
       "    {'amount': 0.1,\n",
       "     'recipient': 'node_5000',\n",
       "     'sender': 'master',\n",
       "     'timestamp': 1718842354.5451891}]}],\n",
       " 'length': 2}"
      ]
     },
     "execution_count": 6,
     "metadata": {},
     "output_type": "execute_result"
    }
   ],
   "source": [
    "# 작업증명 후 거래내역 블록이 추가됨\n",
    "\n",
    "res = requests.get(baseurl + '/chain', headers=headers)\n",
    "json.loads(res.content)"
   ]
  },
  {
   "cell_type": "code",
   "execution_count": 7,
   "metadata": {},
   "outputs": [
    {
     "data": {
      "text/plain": [
       "<Response [201]>"
      ]
     },
     "execution_count": 7,
     "metadata": {},
     "output_type": "execute_result"
    },
    {
     "data": {
      "text/plain": [
       "<Response [201]>"
      ]
     },
     "execution_count": 7,
     "metadata": {},
     "output_type": "execute_result"
    },
    {
     "name": "stdout",
     "output_type": "stream",
     "text": [
      "<Response [200]>\n",
      "{\"chain\":[{\"index\":1,\"nonce\":100,\"previous_hash\":1,\"timestamp\":1718842311.55508,\"transactions\":[]},{\"index\":2,\"nonce\":665682,\"previous_hash\":\"cb3558834cbfe8e74bf52c804d1b4ca6ce488ae42702bdb8c436b464d8482a26\",\"timestamp\":1718842354.545194,\"transactions\":[{\"amount\":3,\"recipient\":\"test_to\",\"sender\":\"test_from\",\"timestamp\":1718842346.258349},{\"amount\":0.1,\"recipient\":\"node_5000\",\"sender\":\"master\",\"timestamp\":1718842354.5451891}]},{\"index\":3,\"nonce\":-724033,\"previous_hash\":\"be0b52766f5a19512a1a7701ebbf1691420955225d5dea8d34412605748733f2\",\"timestamp\":1718842361.179232,\"transactions\":[{\"amount\":30,\"recipient\":\"test_to2\",\"sender\":\"test_from\",\"timestamp\":1718842361.027576},{\"amount\":300,\"recipient\":\"test_to3\",\"sender\":\"test_from\",\"timestamp\":1718842361.031727},{\"amount\":0.1,\"recipient\":\"node_5000\",\"sender\":\"master\",\"timestamp\":1718842361.1792262}]}],\"length\":3}\n",
      "\n"
     ]
    }
   ],
   "source": [
    "# 추가 두 건의 거래 기록\n",
    "\n",
    "tx = dict(sender='test_from', recipient='test_to2', amount=30)\n",
    "requests.post(baseurl + '/transactions/new', headers=headers, data=json.dumps(tx))\n",
    "\n",
    "tx = dict(sender='test_from', recipient='test_to3', amount=300)\n",
    "requests.post(baseurl + '/transactions/new', headers=headers, data=json.dumps(tx))"
   ]
  },
  {
   "cell_type": "code",
   "execution_count": 22,
   "metadata": {},
   "outputs": [
    {
     "name": "stdout",
     "output_type": "stream",
     "text": [
      "<Response [200]>\n",
      "{\"chain\":[{\"index\":1,\"nonce\":100,\"previous_hash\":1,\"timestamp\":1718842311.55508,\"transactions\":[]},{\"index\":2,\"nonce\":665682,\"previous_hash\":\"cb3558834cbfe8e74bf52c804d1b4ca6ce488ae42702bdb8c436b464d8482a26\",\"timestamp\":1718842354.545194,\"transactions\":[{\"amount\":3,\"recipient\":\"test_to\",\"sender\":\"test_from\",\"timestamp\":1718842346.258349},{\"amount\":0.1,\"recipient\":\"node_5000\",\"sender\":\"master\",\"timestamp\":1718842354.5451891}]},{\"index\":3,\"nonce\":-724033,\"previous_hash\":\"be0b52766f5a19512a1a7701ebbf1691420955225d5dea8d34412605748733f2\",\"timestamp\":1718842361.179232,\"transactions\":[{\"amount\":30,\"recipient\":\"test_to2\",\"sender\":\"test_from\",\"timestamp\":1718842361.027576},{\"amount\":300,\"recipient\":\"test_to3\",\"sender\":\"test_from\",\"timestamp\":1718842361.031727},{\"amount\":0.1,\"recipient\":\"node_5000\",\"sender\":\"master\",\"timestamp\":1718842361.1792262}]},{\"index\":4,\"nonce\":665682,\"previous_hash\":\"e8f591b193cc185f1f92a80bd682e00c9dd4f88e4cee53a2710c206b4d79387c\",\"timestamp\":1718846119.2952802,\"transactions\":[{\"amount\":3,\"recipient\":\"test_to4\",\"sender\":\"test_to\",\"timestamp\":1718845972.500839},{\"amount\":3,\"recipient\":\"test_to4\",\"sender\":\"test_to\",\"timestamp\":1718846068.007509},{\"amount\":0.1,\"recipient\":\"node_5000\",\"sender\":\"master\",\"timestamp\":1718846119.295274}]}],\"length\":4}\n",
      "\n"
     ]
    }
   ],
   "source": [
    "# 채굴, 체인 조회\n",
    "\n",
    "res = requests.get(baseurl + '/mine')\n",
    "print(res)\n",
    "\n",
    "res = requests.get(baseurl + '/chain', headers=headers)\n",
    "print(res.text)"
   ]
  },
  {
   "cell_type": "code",
   "execution_count": 8,
   "metadata": {},
   "outputs": [
    {
     "data": {
      "text/plain": [
       "[{'index': 1,\n",
       "  'nonce': 100,\n",
       "  'previous_hash': 1,\n",
       "  'timestamp': 1718842311.55508,\n",
       "  'transactions': []},\n",
       " {'index': 2,\n",
       "  'nonce': 665682,\n",
       "  'previous_hash': 'cb3558834cbfe8e74bf52c804d1b4ca6ce488ae42702bdb8c436b464d8482a26',\n",
       "  'timestamp': 1718842354.545194,\n",
       "  'transactions': [{'amount': 3,\n",
       "    'recipient': 'test_to',\n",
       "    'sender': 'test_from',\n",
       "    'timestamp': 1718842346.258349},\n",
       "   {'amount': 0.1,\n",
       "    'recipient': 'node_5000',\n",
       "    'sender': 'master',\n",
       "    'timestamp': 1718842354.5451891}]},\n",
       " {'index': 3,\n",
       "  'nonce': -724033,\n",
       "  'previous_hash': 'be0b52766f5a19512a1a7701ebbf1691420955225d5dea8d34412605748733f2',\n",
       "  'timestamp': 1718842361.179232,\n",
       "  'transactions': [{'amount': 30,\n",
       "    'recipient': 'test_to2',\n",
       "    'sender': 'test_from',\n",
       "    'timestamp': 1718842361.027576},\n",
       "   {'amount': 300,\n",
       "    'recipient': 'test_to3',\n",
       "    'sender': 'test_from',\n",
       "    'timestamp': 1718842361.031727},\n",
       "   {'amount': 0.1,\n",
       "    'recipient': 'node_5000',\n",
       "    'sender': 'master',\n",
       "    'timestamp': 1718842361.1792262}]}]"
      ]
     },
     "execution_count": 8,
     "metadata": {},
     "output_type": "execute_result"
    }
   ],
   "source": [
    "status = json.loads(res.text)['chain']\n",
    "status"
   ]
  },
  {
   "cell_type": "code",
   "execution_count": 6,
   "metadata": {},
   "outputs": [
    {
     "data": {
      "text/html": [
       "<div>\n",
       "<style scoped>\n",
       "    .dataframe tbody tr th:only-of-type {\n",
       "        vertical-align: middle;\n",
       "    }\n",
       "\n",
       "    .dataframe tbody tr th {\n",
       "        vertical-align: top;\n",
       "    }\n",
       "\n",
       "    .dataframe thead th {\n",
       "        text-align: right;\n",
       "    }\n",
       "</style>\n",
       "<table border=\"1\" class=\"dataframe\">\n",
       "  <thead>\n",
       "    <tr style=\"text-align: right;\">\n",
       "      <th></th>\n",
       "      <th>timestamp</th>\n",
       "      <th>sender</th>\n",
       "      <th>recipient</th>\n",
       "      <th>amount</th>\n",
       "    </tr>\n",
       "  </thead>\n",
       "  <tbody>\n",
       "    <tr>\n",
       "      <th>0</th>\n",
       "      <td>1.718842e+09</td>\n",
       "      <td>test_from</td>\n",
       "      <td>test_to</td>\n",
       "      <td>3.0</td>\n",
       "    </tr>\n",
       "    <tr>\n",
       "      <th>1</th>\n",
       "      <td>1.718842e+09</td>\n",
       "      <td>master</td>\n",
       "      <td>node_5000</td>\n",
       "      <td>0.1</td>\n",
       "    </tr>\n",
       "    <tr>\n",
       "      <th>2</th>\n",
       "      <td>1.718842e+09</td>\n",
       "      <td>test_from</td>\n",
       "      <td>test_to2</td>\n",
       "      <td>30.0</td>\n",
       "    </tr>\n",
       "    <tr>\n",
       "      <th>3</th>\n",
       "      <td>1.718842e+09</td>\n",
       "      <td>test_from</td>\n",
       "      <td>test_to3</td>\n",
       "      <td>300.0</td>\n",
       "    </tr>\n",
       "    <tr>\n",
       "      <th>4</th>\n",
       "      <td>1.718842e+09</td>\n",
       "      <td>master</td>\n",
       "      <td>node_5000</td>\n",
       "      <td>0.1</td>\n",
       "    </tr>\n",
       "  </tbody>\n",
       "</table>\n",
       "</div>"
      ],
      "text/plain": [
       "      timestamp     sender  recipient  amount\n",
       "0  1.718842e+09  test_from    test_to     3.0\n",
       "1  1.718842e+09     master  node_5000     0.1\n",
       "2  1.718842e+09  test_from   test_to2    30.0\n",
       "3  1.718842e+09  test_from   test_to3   300.0\n",
       "4  1.718842e+09     master  node_5000     0.1"
      ]
     },
     "execution_count": 6,
     "metadata": {},
     "output_type": "execute_result"
    }
   ],
   "source": [
    "# 거래 내역 DataFrame\n",
    "\n",
    "from collections import defaultdict\n",
    "import pandas as pd\n",
    "\n",
    "txs = defaultdict(list)\n",
    "\n",
    "for block in json.loads(res.text)['chain']:\n",
    "    for tx in block['transactions']:\n",
    "        txs['timestamp'].append(tx['timestamp'])\n",
    "        txs['sender'].append(tx['sender'])\n",
    "        txs['recipient'].append(tx['recipient'])\n",
    "        txs['amount'].append(tx['amount'])\n",
    "\n",
    "df_tx = pd.DataFrame(txs)\n",
    "df_tx"
   ]
  },
  {
   "cell_type": "code",
   "execution_count": 7,
   "metadata": {},
   "outputs": [
    {
     "data": {
      "text/html": [
       "<div>\n",
       "<style scoped>\n",
       "    .dataframe tbody tr th:only-of-type {\n",
       "        vertical-align: middle;\n",
       "    }\n",
       "\n",
       "    .dataframe tbody tr th {\n",
       "        vertical-align: top;\n",
       "    }\n",
       "\n",
       "    .dataframe thead th {\n",
       "        text-align: right;\n",
       "    }\n",
       "</style>\n",
       "<table border=\"1\" class=\"dataframe\">\n",
       "  <thead>\n",
       "    <tr style=\"text-align: right;\">\n",
       "      <th></th>\n",
       "      <th>user</th>\n",
       "      <th>received_amount</th>\n",
       "      <th>sended_amount</th>\n",
       "      <th>balance</th>\n",
       "    </tr>\n",
       "  </thead>\n",
       "  <tbody>\n",
       "    <tr>\n",
       "      <th>0</th>\n",
       "      <td>master</td>\n",
       "      <td>0.0</td>\n",
       "      <td>0.2</td>\n",
       "      <td>-0.2</td>\n",
       "    </tr>\n",
       "    <tr>\n",
       "      <th>1</th>\n",
       "      <td>node_5000</td>\n",
       "      <td>0.2</td>\n",
       "      <td>0.0</td>\n",
       "      <td>0.2</td>\n",
       "    </tr>\n",
       "    <tr>\n",
       "      <th>2</th>\n",
       "      <td>test_from</td>\n",
       "      <td>0.0</td>\n",
       "      <td>333.0</td>\n",
       "      <td>-333.0</td>\n",
       "    </tr>\n",
       "    <tr>\n",
       "      <th>3</th>\n",
       "      <td>test_to</td>\n",
       "      <td>3.0</td>\n",
       "      <td>0.0</td>\n",
       "      <td>3.0</td>\n",
       "    </tr>\n",
       "    <tr>\n",
       "      <th>4</th>\n",
       "      <td>test_to2</td>\n",
       "      <td>30.0</td>\n",
       "      <td>0.0</td>\n",
       "      <td>30.0</td>\n",
       "    </tr>\n",
       "    <tr>\n",
       "      <th>5</th>\n",
       "      <td>test_to3</td>\n",
       "      <td>300.0</td>\n",
       "      <td>0.0</td>\n",
       "      <td>300.0</td>\n",
       "    </tr>\n",
       "  </tbody>\n",
       "</table>\n",
       "</div>"
      ],
      "text/plain": [
       "        user  received_amount  sended_amount  balance\n",
       "0     master              0.0            0.2     -0.2\n",
       "1  node_5000              0.2            0.0      0.2\n",
       "2  test_from              0.0          333.0   -333.0\n",
       "3    test_to              3.0            0.0      3.0\n",
       "4   test_to2             30.0            0.0     30.0\n",
       "5   test_to3            300.0            0.0    300.0"
      ]
     },
     "execution_count": 7,
     "metadata": {},
     "output_type": "execute_result"
    }
   ],
   "source": [
    "# 지갑별 잔액\n",
    "\n",
    "df_sended = pd.DataFrame(df_tx.groupby('sender')['amount'].sum()).reset_index()\n",
    "df_sended.columns = 'user sended_amount'.split()\n",
    "df_received = pd.DataFrame(df_tx.groupby('recipient')['amount'].sum()).reset_index()\n",
    "df_received.columns = 'user received_amount'.split()\n",
    "\n",
    "df_status = pd.merge(df_received, df_sended, how='outer').fillna(0)\n",
    "df_status.eval('balance = received_amount - sended_amount', inplace=True)\n",
    "df_status"
   ]
  },
  {
   "cell_type": "code",
   "execution_count": 16,
   "metadata": {},
   "outputs": [
    {
     "data": {
      "text/plain": [
       "False"
      ]
     },
     "execution_count": 16,
     "metadata": {},
     "output_type": "execute_result"
    },
    {
     "data": {
      "text/html": [
       "<div>\n",
       "<style scoped>\n",
       "    .dataframe tbody tr th:only-of-type {\n",
       "        vertical-align: middle;\n",
       "    }\n",
       "\n",
       "    .dataframe tbody tr th {\n",
       "        vertical-align: top;\n",
       "    }\n",
       "\n",
       "    .dataframe thead th {\n",
       "        text-align: right;\n",
       "    }\n",
       "</style>\n",
       "<table border=\"1\" class=\"dataframe\">\n",
       "  <thead>\n",
       "    <tr style=\"text-align: right;\">\n",
       "      <th></th>\n",
       "      <th>user</th>\n",
       "      <th>received_amount</th>\n",
       "      <th>sended_amount</th>\n",
       "      <th>balance</th>\n",
       "    </tr>\n",
       "  </thead>\n",
       "  <tbody>\n",
       "    <tr>\n",
       "      <th>0</th>\n",
       "      <td>master</td>\n",
       "      <td>0.0</td>\n",
       "      <td>0.2</td>\n",
       "      <td>-0.2</td>\n",
       "    </tr>\n",
       "  </tbody>\n",
       "</table>\n",
       "</div>"
      ],
      "text/plain": [
       "     user  received_amount  sended_amount  balance\n",
       "0  master              0.0            0.2     -0.2"
      ]
     },
     "execution_count": 16,
     "metadata": {},
     "output_type": "execute_result"
    },
    {
     "name": "stdout",
     "output_type": "stream",
     "text": [
      "none\n"
     ]
    },
    {
     "data": {
      "text/html": [
       "<div>\n",
       "<style scoped>\n",
       "    .dataframe tbody tr th:only-of-type {\n",
       "        vertical-align: middle;\n",
       "    }\n",
       "\n",
       "    .dataframe tbody tr th {\n",
       "        vertical-align: top;\n",
       "    }\n",
       "\n",
       "    .dataframe thead th {\n",
       "        text-align: right;\n",
       "    }\n",
       "</style>\n",
       "<table border=\"1\" class=\"dataframe\">\n",
       "  <thead>\n",
       "    <tr style=\"text-align: right;\">\n",
       "      <th></th>\n",
       "      <th>user</th>\n",
       "      <th>received_amount</th>\n",
       "      <th>sended_amount</th>\n",
       "      <th>balance</th>\n",
       "    </tr>\n",
       "  </thead>\n",
       "  <tbody>\n",
       "    <tr>\n",
       "      <th>0</th>\n",
       "      <td>master</td>\n",
       "      <td>0.0</td>\n",
       "      <td>0.2</td>\n",
       "      <td>-0.2</td>\n",
       "    </tr>\n",
       "  </tbody>\n",
       "</table>\n",
       "</div>"
      ],
      "text/plain": [
       "     user  received_amount  sended_amount  balance\n",
       "0  master              0.0            0.2     -0.2"
      ]
     },
     "execution_count": 16,
     "metadata": {},
     "output_type": "execute_result"
    }
   ],
   "source": [
    "'master' in df_status.user\n",
    "df_status.query('user==\"master\"')\n",
    "if df_status.query('user==\"z\"').empty:\n",
    "    print('none')\n",
    "\n",
    "wallet_id = 'master'\n",
    "if not (df_query := df_status.query('user==@wallet_id')).empty:\n",
    "    df_query"
   ]
  },
  {
   "cell_type": "code",
   "execution_count": 17,
   "metadata": {},
   "outputs": [
    {
     "data": {
      "text/plain": [
       "-0.2"
      ]
     },
     "execution_count": 17,
     "metadata": {},
     "output_type": "execute_result"
    }
   ],
   "source": [
    "df_query.iloc[0]['balance']"
   ]
  },
  {
   "cell_type": "code",
   "execution_count": null,
   "metadata": {},
   "outputs": [],
   "source": []
  },
  {
   "cell_type": "markdown",
   "metadata": {},
   "source": [
    "### 스캔"
   ]
  },
  {
   "cell_type": "code",
   "execution_count": 11,
   "metadata": {},
   "outputs": [
    {
     "name": "stdout",
     "output_type": "stream",
     "text": [
      " * Serving Flask app '__main__'\n",
      " * Debug mode: off\n"
     ]
    },
    {
     "name": "stderr",
     "output_type": "stream",
     "text": [
      "\u001b[31m\u001b[1mWARNING: This is a development server. Do not use it in a production deployment. Use a production WSGI server instead.\u001b[0m\n",
      " * Running on http://127.0.0.1:8080\n",
      "\u001b[33mPress CTRL+C to quit\u001b[0m\n",
      "[2024-06-20 09:13:08,835] ERROR in app: Exception on / [GET]\n",
      "Traceback (most recent call last):\n",
      "  File \"/opt/homebrew/Caskroom/miniconda/base/envs/py311qt6/lib/python3.11/site-packages/flask/app.py\", line 1473, in wsgi_app\n",
      "    response = self.full_dispatch_request()\n",
      "               ^^^^^^^^^^^^^^^^^^^^^^^^^^^^\n",
      "  File \"/opt/homebrew/Caskroom/miniconda/base/envs/py311qt6/lib/python3.11/site-packages/flask/app.py\", line 882, in full_dispatch_request\n",
      "    rv = self.handle_user_exception(e)\n",
      "         ^^^^^^^^^^^^^^^^^^^^^^^^^^^^^\n",
      "  File \"/opt/homebrew/Caskroom/miniconda/base/envs/py311qt6/lib/python3.11/site-packages/flask/app.py\", line 880, in full_dispatch_request\n",
      "    rv = self.dispatch_request()\n",
      "         ^^^^^^^^^^^^^^^^^^^^^^^\n",
      "  File \"/opt/homebrew/Caskroom/miniconda/base/envs/py311qt6/lib/python3.11/site-packages/flask/app.py\", line 865, in dispatch_request\n",
      "    return self.ensure_sync(self.view_functions[rule.endpoint])(**view_args)  # type: ignore[no-any-return]\n",
      "           ^^^^^^^^^^^^^^^^^^^^^^^^^^^^^^^^^^^^^^^^^^^^^^^^^^^^^^^^^^^^^^^^^\n",
      "  File \"/var/folders/_m/m6xx8_r55cxcn5l1p6yqd9fr0000gn/T/ipykernel_44265/2218938760.py\", line 17, in index\n",
      "    return render_template('one_node_scan.html', df_scan=df_scan, block_len=len(df_scan))\n",
      "           ^^^^^^^^^^^^^^^^^^^^^^^^^^^^^^^^^^^^^^^^^^^^^^^^^^^^^^^^^^^^^^^^^^^^^^^^^^^^^^\n",
      "  File \"/opt/homebrew/Caskroom/miniconda/base/envs/py311qt6/lib/python3.11/site-packages/flask/templating.py\", line 150, in render_template\n",
      "    return _render(app, template, context)\n",
      "           ^^^^^^^^^^^^^^^^^^^^^^^^^^^^^^^\n",
      "  File \"/opt/homebrew/Caskroom/miniconda/base/envs/py311qt6/lib/python3.11/site-packages/flask/templating.py\", line 131, in _render\n",
      "    rv = template.render(context)\n",
      "         ^^^^^^^^^^^^^^^^^^^^^^^^\n",
      "  File \"/opt/homebrew/Caskroom/miniconda/base/envs/py311qt6/lib/python3.11/site-packages/jinja2/environment.py\", line 1304, in render\n",
      "    self.environment.handle_exception()\n",
      "  File \"/opt/homebrew/Caskroom/miniconda/base/envs/py311qt6/lib/python3.11/site-packages/jinja2/environment.py\", line 939, in handle_exception\n",
      "    raise rewrite_traceback_stack(source=source)\n",
      "  File \"/Users/jwkim/Documents/GitHub/Python_DL_RL/templates/one_node_scan.html\", line 12, in top-level template code\n",
      "    {%for i in range(0,chain_len)%}\n",
      "    ^^^^^^^^^^^^^^^^^^^^^^^^^\n",
      "TypeError: 'Undefined' object cannot be interpreted as an integer\n",
      "127.0.0.1 - - [20/Jun/2024 09:13:08] \"\u001b[35m\u001b[1mGET / HTTP/1.1\u001b[0m\" 500 -\n"
     ]
    }
   ],
   "source": [
    "import json, requests\n",
    "import pandas as pd\n",
    "from flask import Flask, render_template\n",
    "\n",
    "myip = '127.0.0.1'\n",
    "myport = '5000'\n",
    "baseurl = f'http://{myip}:{myport}'\n",
    "headers = {'Content-Type': 'application/json; charset=utf-8'}\n",
    "\n",
    "app = Flask(__name__)\n",
    "\n",
    "@app.route('/')\n",
    "def index():\n",
    "    res = requests.get(baseurl + '/chain', headers=headers)\n",
    "    status = json.loads(res.text)\n",
    "    df_scan = pd.DataFrame(status['chain'])\n",
    "    return render_template('one_node_scan.html', df_scan=df_scan, block_len=len(df_scan))\n",
    "\n",
    "app.run(port=8080)"
   ]
  },
  {
   "cell_type": "code",
   "execution_count": 23,
   "metadata": {},
   "outputs": [
    {
     "data": {
      "text/html": [
       "<div>\n",
       "<style scoped>\n",
       "    .dataframe tbody tr th:only-of-type {\n",
       "        vertical-align: middle;\n",
       "    }\n",
       "\n",
       "    .dataframe tbody tr th {\n",
       "        vertical-align: top;\n",
       "    }\n",
       "\n",
       "    .dataframe thead th {\n",
       "        text-align: right;\n",
       "    }\n",
       "</style>\n",
       "<table border=\"1\" class=\"dataframe\">\n",
       "  <thead>\n",
       "    <tr style=\"text-align: right;\">\n",
       "      <th></th>\n",
       "      <th>index</th>\n",
       "      <th>timestamp</th>\n",
       "      <th>previous_hash</th>\n",
       "      <th>nonce</th>\n",
       "      <th>transactions</th>\n",
       "    </tr>\n",
       "  </thead>\n",
       "  <tbody>\n",
       "    <tr>\n",
       "      <th>0</th>\n",
       "      <td>1</td>\n",
       "      <td>100</td>\n",
       "      <td>1</td>\n",
       "      <td>1.718842e+09</td>\n",
       "      <td>[]</td>\n",
       "    </tr>\n",
       "    <tr>\n",
       "      <th>1</th>\n",
       "      <td>2</td>\n",
       "      <td>665682</td>\n",
       "      <td>cb3558834cbfe8e74bf52c804d1b4ca6ce488ae42702bd...</td>\n",
       "      <td>1.718842e+09</td>\n",
       "      <td>[{'amount': 3, 'recipient': 'test_to', 'sender...</td>\n",
       "    </tr>\n",
       "    <tr>\n",
       "      <th>2</th>\n",
       "      <td>3</td>\n",
       "      <td>-724033</td>\n",
       "      <td>be0b52766f5a19512a1a7701ebbf1691420955225d5dea...</td>\n",
       "      <td>1.718842e+09</td>\n",
       "      <td>[{'amount': 30, 'recipient': 'test_to2', 'send...</td>\n",
       "    </tr>\n",
       "    <tr>\n",
       "      <th>3</th>\n",
       "      <td>4</td>\n",
       "      <td>665682</td>\n",
       "      <td>e8f591b193cc185f1f92a80bd682e00c9dd4f88e4cee53...</td>\n",
       "      <td>1.718846e+09</td>\n",
       "      <td>[{'amount': 3, 'recipient': 'test_to4', 'sende...</td>\n",
       "    </tr>\n",
       "  </tbody>\n",
       "</table>\n",
       "</div>"
      ],
      "text/plain": [
       "   index  timestamp                                      previous_hash  \\\n",
       "0      1        100                                                  1   \n",
       "1      2     665682  cb3558834cbfe8e74bf52c804d1b4ca6ce488ae42702bd...   \n",
       "2      3    -724033  be0b52766f5a19512a1a7701ebbf1691420955225d5dea...   \n",
       "3      4     665682  e8f591b193cc185f1f92a80bd682e00c9dd4f88e4cee53...   \n",
       "\n",
       "          nonce                                       transactions  \n",
       "0  1.718842e+09                                                 []  \n",
       "1  1.718842e+09  [{'amount': 3, 'recipient': 'test_to', 'sender...  \n",
       "2  1.718842e+09  [{'amount': 30, 'recipient': 'test_to2', 'send...  \n",
       "3  1.718846e+09  [{'amount': 3, 'recipient': 'test_to4', 'sende...  "
      ]
     },
     "execution_count": 23,
     "metadata": {},
     "output_type": "execute_result"
    }
   ],
   "source": [
    "import json, requests\n",
    "import pandas as pd\n",
    "\n",
    "myip = '127.0.0.1'\n",
    "myport = '5000'\n",
    "baseurl = f'http://{myip}:{myport}'\n",
    "headers = {'Content-Type': 'application/json; charset=utf-8'}\n",
    "\n",
    "res = requests.get(baseurl + '/chain', headers=headers)\n",
    "status = json.loads(res.text)\n",
    "df_scan = pd.DataFrame(status['chain'])\n",
    "df_scan.columns = 'index timestamp previous_hash nonce transactions'.split()\n",
    "df_scan"
   ]
  },
  {
   "cell_type": "markdown",
   "metadata": {},
   "source": [
    "### 월렛"
   ]
  },
  {
   "cell_type": "code",
   "execution_count": 21,
   "metadata": {},
   "outputs": [
    {
     "name": "stdout",
     "output_type": "stream",
     "text": [
      " * Serving Flask app '__main__'\n",
      " * Debug mode: off\n"
     ]
    },
    {
     "name": "stderr",
     "output_type": "stream",
     "text": [
      "\u001b[31m\u001b[1mWARNING: This is a development server. Do not use it in a production deployment. Use a production WSGI server instead.\u001b[0m\n",
      " * Running on http://127.0.0.1:8081\n",
      "\u001b[33mPress CTRL+C to quit\u001b[0m\n",
      "127.0.0.1 - - [20/Jun/2024 10:14:06] \"GET / HTTP/1.1\" 200 -\n",
      "127.0.0.1 - - [20/Jun/2024 10:14:14] \"POST / HTTP/1.1\" 200 -\n"
     ]
    },
    {
     "name": "stdout",
     "output_type": "stream",
     "text": [
      "/nlogin 버튼 누름\n",
      "login 지갑 주소: test_to\n",
      "로그인 성공\n"
     ]
    },
    {
     "name": "stderr",
     "output_type": "stream",
     "text": [
      "127.0.0.1 - - [20/Jun/2024 10:14:28] \"POST /wallet HTTP/1.1\" 200 -\n"
     ]
    },
    {
     "name": "stdout",
     "output_type": "stream",
     "text": [
      "\n",
      "Login Wallet ID: test_to\n",
      "Send Amount: 3\n"
     ]
    }
   ],
   "source": [
    "import json, requests\n",
    "from collections import defaultdict\n",
    "import pandas as pd\n",
    "from flask import Flask, render_template, request, url_for, redirect\n",
    "\n",
    "myip = '127.0.0.1'\n",
    "myport = '5000'\n",
    "baseurl = f'http://{myip}:{myport}'\n",
    "headers = {'Content-Type': 'application/json; charset=utf-8'}\n",
    "app = Flask(__name__)\n",
    "\n",
    "@app.route('/', methods=['GET', 'POST'])\n",
    "def login():\n",
    "    if request.method == 'POST':\n",
    "        print('/nlogin 버튼 누름')\n",
    "        wallet_id = request.form.to_dict(flat=False)['wallet_id'][0]\n",
    "        print('login 지갑 주소:', wallet_id)\n",
    "\n",
    "        res = requests.get(baseurl + '/chain', headers=headers)\n",
    "        txs = defaultdict(list)\n",
    "        for block in json.loads(res.text)['chain']:\n",
    "            for tx in block['transactions']:\n",
    "                txs['timestamp'].append(tx['timestamp'])\n",
    "                txs['sender'].append(tx['sender'])\n",
    "                txs['recipient'].append(tx['recipient'])\n",
    "                txs['amount'].append(tx['amount'])\n",
    "        df_tx = pd.DataFrame(txs)\n",
    "\n",
    "        df_sended = pd.DataFrame(df_tx.groupby('sender')['amount'].sum()).reset_index()\n",
    "        df_sended.columns = 'user sended_amount'.split()\n",
    "        df_received = pd.DataFrame(df_tx.groupby('recipient')['amount'].sum()).reset_index()\n",
    "        df_received.columns = 'user received_amount'.split()\n",
    "        df_status = pd.merge(df_received, df_sended, how='outer').fillna(0)\n",
    "        df_status.eval('balance = received_amount - sended_amount', inplace=True)\n",
    "\n",
    "        if not (df_query := df_status.query('user==@wallet_id')).empty:\n",
    "            print('로그인 성공')\n",
    "            wallet_value = df_query.iloc[0]['balance']\n",
    "            return render_template('wallet.html', wallet_id=wallet_id, \n",
    "                                   wallet_value=wallet_value)\n",
    "        else:\n",
    "            return '잘못된 지갑주소입니다'\n",
    "    return render_template('login.html')\n",
    "\n",
    "@app.route('/wallet', methods=['GET', 'POST'])\n",
    "def wallet():\n",
    "    if request.method == 'POST':\n",
    "        v = request.form.to_dict(flat=False)\n",
    "        send_value = int(v['send_value'][0])\n",
    "        send_target = v['send_target'][0]\n",
    "        send_from = v['send_from'][0]\n",
    "        print('\\nLogin Wallet ID:', send_from)\n",
    "\n",
    "        if send_value > 0:\n",
    "            print('Send Amount:', send_value)\n",
    "            tx = dict(sender=send_from, recipient=send_target, amount=send_value)\n",
    "            requests.post(baseurl + '/transactions/new', headers=headers, data=json.dumps(tx))\n",
    "            return '전송 완료!'\n",
    "        else:\n",
    "            return '0 pyBTC 이상 보내세요!'\n",
    "    return render_template('wallet.html')\n",
    "\n",
    "\n",
    "app.run(port=8081)"
   ]
  },
  {
   "cell_type": "markdown",
   "metadata": {},
   "source": [
    "## node_network"
   ]
  },
  {
   "cell_type": "code",
   "execution_count": null,
   "metadata": {},
   "outputs": [],
   "source": [
    "# pow_node_network.py\n",
    "\n",
    "import time, random, json, hashlib\n",
    "from urllib.parse import urlparse\n",
    "from flask import Flask, request, jsonify\n",
    "\n",
    "PROBLEM = '0'\n",
    "DIFFICULTY = 4\n",
    "myip = '127.0.0.1'\n",
    "myport = '5000'     # '5000', '5001', '5002'\n",
    "node_identifier = 'node_' + myport\n",
    "mine_owner = 'master'\n",
    "mine_profit = .1\n",
    "\n",
    "def _hash(block):       # hashes a block\n",
    "    block_str = json.dumps(block, sort_keys=True)\n",
    "    return hashlib.sha256(block_str.encode()).hexdigest()\n",
    "\n",
    "def _valid_proof(last_proof, proof):\n",
    "    guess = str(last_proof + proof)\n",
    "    guess_hash = hashlib.sha256(guess.encode()).hexdigest()\n",
    "    return guess_hash[:DIFFICULTY] == PROBLEM * DIFFICULTY\n",
    "\n",
    "def _valid_chain(chain):\n",
    "    return all(block['previous_hash'] == _hash(last_block)\n",
    "               for last_block, block in zip(chain, chain[1:]))\n",
    "\n",
    "def _pow(last_proof):\n",
    "    while not _valid_proof(last_proof, proof:=random.randrange(-100_0000, 100_0001)):\n",
    "        pass\n",
    "    return proof\n",
    "\n",
    "\n",
    "class Blockchain:\n",
    "    def __init__(self):\n",
    "        self.chain = []\n",
    "        self.current_transactions = []\n",
    "        self.nodes = set()\n",
    "        self.new_block(previous_hash=1, proof=100)\n",
    "\n",
    "    @property\n",
    "    def last_block(self):\n",
    "        return self.chain[-1]\n",
    "    \n",
    "    def new_transaction(self, sender, recipient, amount):\n",
    "        self.current_transactions.append(\n",
    "            dict(sender=sender, recipient=recipient, amount=amount, timestamp=time.time()))\n",
    "        return self.last_block['index'] + 1\n",
    "    \n",
    "    def new_block(self, proof, previous_hash=None):\n",
    "        block = dict(index=len(self.chain)+1,                               # 1, 2, 3, ...\n",
    "                     timestamp=time.time(),\n",
    "                     transactions=self.current_transactions,\n",
    "                     nonce=proof,\n",
    "                     previous_hash=previous_hash or _hash(self.last_block))\n",
    "        self.chain.append(block)\n",
    "        self.current_transactions = []\n",
    "        return block\n",
    "    \n",
    "    def register_node(self, address):\n",
    "        url = urlparse(address)         # scheme='http', netloc='127.0.0.1:5000', path='/chain...'\n",
    "        self.nodes.add(url.netloc)      # '127.0.0.1:5000'\n",
    "\n",
    "    def resolve_conflicts(self):\n",
    "        new_chain = None\n",
    "        my_length = len(self.chain)\n",
    "        for node in self.nodes:\n",
    "            nodeurl = f'http://{node}/chain'\n",
    "            response = requests.get(nodeurl)\n",
    "            if response.status_code == 200:\n",
    "                js = response.json()\n",
    "                length, chain = js['length'], js['chain']\n",
    "                if length > my_length and _valid_chain(chain):\n",
    "                    my_length, new_chain = length, chain\n",
    "        if new_chain is not None:\n",
    "            self.chain = new_chain\n",
    "            return True\n",
    "        return False\n",
    "    \n",
    "\n",
    "blockchain = Blockchain()\n",
    "headers = {'Content-Type': 'application/json; charset=utf-8'}\n",
    "app = Flask(__name__)\n",
    "\n",
    "@app.route('/chain', methods=['GET'])\n",
    "def full_chain():\n",
    "    print('\\nchain info requested!')\n",
    "    response = dict(chain=blockchain.chain, length=len(blockchain.chain))\n",
    "    return jsonify(response), 200\n",
    "\n",
    "@app.route('/transactions/new', methods=['POST'])\n",
    "def new_transaction():\n",
    "    values = request.get_json()\n",
    "    print('\\ntransactions_new!!!:', values)\n",
    "    required = 'sender recipient amount'.split()\n",
    "    if not all(k in values for k in required):\n",
    "        return 'missing values', 400\n",
    "    index = blockchain.new_transaction(values['sender'], values['recipient'], values['amount'])\n",
    "    response = dict(message=f'Transaction will be added to Block {index}')\n",
    "\n",
    "    if 'type' not in values:\n",
    "        values['type'] = 'sharing'\n",
    "        for node in blockchain.nodes:\n",
    "            requests.post(f'http://{node}/transactions/new', headers=headers, data=json.dumps(values))\n",
    "            print('share transaction to >>', f'http://{node}')\n",
    "    return jsonify(response), 201\n",
    "\n",
    "@app.route('/mine', methods=['GET'])\n",
    "def mine():\n",
    "    print('\\nMINING STARTED')\n",
    "    last_proof = blockchain.last_block['nonce']\n",
    "    proof = _pow(last_proof)\n",
    "\n",
    "    blockchain.new_transaction(sender=mine_owner, recipient=node_identifier, amount=mine_profit)\n",
    "    block = blockchain.new_block(proof)\n",
    "    print('MINING FINISHED')\n",
    "    response = dict(message='new block found', \n",
    "                    index=block['index'],\n",
    "                    transactions=block['transactions'],\n",
    "                    nonce=block['nonce'],\n",
    "                    previous_hash=block['previous_hash'])\n",
    "    \n",
    "    for node in blockchain.nodes:\n",
    "        data = dict(miner_node='http://'+myip+':'+myport, new_nonce=proof)\n",
    "        alarm_res = requests.get('http://'+node+'/nodes/resolve', headers=headers, data=json.dumps(data))\n",
    "        # if 'ERROR' not in alarm_res.text:\n",
    "    return jsonify(response), 200\n",
    "\n",
    "@app.route('/nodes/register', methods=['POST'])\n",
    "def register_node():\n",
    "    v = request.get_json()\n",
    "    print('\\nRegister nodes!', v)\n",
    "    if (registering_node := v.get('nodes')) is None:\n",
    "        return 'Error: Please supply a valid list of nodes', 400\n",
    "    if registering_node.split('//')[1] in blockchain.nodes:\n",
    "        print('Node already registered')\n",
    "        response = dict(message='Already registered node', total_nodes=list(blockchain.nodes))\n",
    "    else:\n",
    "        blockchain.register_node(registering_node)\n",
    "        data = dict(nodes='http://'+myip+':'+myport)\n",
    "        print('My Node Info', 'http://'+myip+':'+myport)\n",
    "        requests.post(registering_node + '/nodes/register', headers=headers, data=json.dumps(data))\n",
    "\n",
    "        for add_node in blockchain.nodes:\n",
    "            if add_node != registering_node.split('//')[1]:\n",
    "                print('add_node:', add_node)\n",
    "                data = dict(nodes=registering_node)\n",
    "                requests.post('http://'+add_node+'/nodes/register', headers=headers, data=json.dumps(data))\n",
    "        response = dict(message='New nodes have been added', total_nodes=list(blockchain.nodes))\n",
    "    return jsonify(response), 201\n",
    "\n",
    "@app.route('/nodes/resolve', methods=['GET'])\n",
    "def resolve():\n",
    "    request_node_info = request.get_json()\n",
    "    required = ['miner_node']\n",
    "    if not all(k in request_node_info for k in required):\n",
    "        return 'missing values', 400\n",
    "    previous_hash = blockchain.last_block['previous_hash']\n",
    "    last_proof = blockchain.last_block['nonce']\n",
    "    miner_chain_info = requests.get(request_node_info['miner_node'] + '/chain', headers=headers)\n",
    "\n",
    "\n",
    "app.run(host=myip, port=myport)"
   ]
  },
  {
   "cell_type": "code",
   "execution_count": null,
   "metadata": {},
   "outputs": [],
   "source": []
  }
 ],
 "metadata": {
  "kernelspec": {
   "display_name": "py311qt6",
   "language": "python",
   "name": "python3"
  },
  "language_info": {
   "codemirror_mode": {
    "name": "ipython",
    "version": 3
   },
   "file_extension": ".py",
   "mimetype": "text/x-python",
   "name": "python",
   "nbconvert_exporter": "python",
   "pygments_lexer": "ipython3",
   "version": "3.11.0"
  }
 },
 "nbformat": 4,
 "nbformat_minor": 2
}
