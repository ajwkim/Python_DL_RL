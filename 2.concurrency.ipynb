{
 "cells": [
  {
   "cell_type": "code",
   "execution_count": 1,
   "metadata": {},
   "outputs": [],
   "source": [
    "from IPython.core.interactiveshell import InteractiveShell\n",
    "InteractiveShell.ast_node_interactivity = 'all'             # 'last_expr' 기본 / 'all'"
   ]
  },
  {
   "cell_type": "code",
   "execution_count": null,
   "metadata": {},
   "outputs": [],
   "source": [
    "# parallelism : multi core, multiple CPUs, GPU, ...\n",
    "\n",
    "# execution unit : independent state and call stack : process, thread, coroutine"
   ]
  },
  {
   "cell_type": "markdown",
   "metadata": {},
   "source": [
    "## asyncio"
   ]
  },
  {
   "cell_type": "code",
   "execution_count": 3,
   "metadata": {},
   "outputs": [
    {
     "data": {
      "text/plain": [
       "<coroutine object main at 0x10d596440>"
      ]
     },
     "execution_count": 3,
     "metadata": {},
     "output_type": "execute_result"
    }
   ],
   "source": [
    "import asyncio\n",
    "\n",
    "async def main():\n",
    "    print('hello')\n",
    "    await asyncio.sleep(1)      # asyncio.sleep(delay, result=None) : suspends the current task, allowing other tasks to run\n",
    "    print('world')\n",
    "\n",
    "main()                      # simply calling a coroutine doesn't schedule it to be executed\n",
    "                            # to run a corou: \n",
    "# asyncio.run(main())           # asyncio.run(corou())\n",
    "                                # await corou()\n",
    "                                # asyncio.create_task(coruo()) -> await tsk\n",
    "                                # async with asyncio.TaskGroup() as tg: tsk = tg.create_task(corou())"
   ]
  },
  {
   "cell_type": "code",
   "execution_count": null,
   "metadata": {},
   "outputs": [],
   "source": [
    "import time, asyncio\n",
    "\n",
    "\n",
    "async def say_after(delay, what):\n",
    "    await asyncio.sleep(delay)\n",
    "    print(what)\n",
    "\n",
    "\n",
    "async def main():\n",
    "    print(f\"started at {time.strftime('%X')}\")\n",
    "    \n",
    "    await say_after(1, 'hello')\n",
    "    await say_after(2, 'world')\n",
    "\n",
    "    print(f\"finished at {time.strftime('%X')}\")\n",
    "\n",
    "\n",
    "asyncio.run(main())                                 # total 3 sec."
   ]
  },
  {
   "cell_type": "code",
   "execution_count": null,
   "metadata": {},
   "outputs": [],
   "source": [
    "import time, asyncio\n",
    "\n",
    "\n",
    "async def say_after(delay, what):\n",
    "    await asyncio.sleep(delay)\n",
    "    print(what)\n",
    "\n",
    "\n",
    "async def main():\n",
    "    task1 = asyncio.create_task(say_after(1, 'hello'))      # runs concurrently\n",
    "    task2 = asyncio.create_task(say_after(2, 'world'))\n",
    "\n",
    "    print(f'started at {time.strftime(\"%X\")}')\n",
    "\n",
    "    await task1\n",
    "    await task2\n",
    "\n",
    "    print(f'finished at {time.strftime(\"%X\")}')\n",
    "\n",
    "\n",
    "asyncio.run(main())                                 # total 2 sec."
   ]
  },
  {
   "cell_type": "code",
   "execution_count": null,
   "metadata": {},
   "outputs": [],
   "source": [
    "import time, asyncio\n",
    "\n",
    "\n",
    "async def say_after(delay, what):\n",
    "    await asyncio.sleep(delay)\n",
    "    print(what)\n",
    "\n",
    "\n",
    "async def main():\n",
    "    async with asyncio.TaskGroup() as tg:                       # from 3.11\n",
    "        task1 = tg.create_task(say_after(1, 'hello'))\n",
    "        task2 = tg.create_task(say_after(2, 'world'))\n",
    "\n",
    "        print(f'started at {time.strftime(\"%X\")}')\n",
    "    \n",
    "    # await is implicit when the context manager exits          # runs corous concurrently\n",
    "\n",
    "    print(f'finished at {time.strftime(\"%X\")}')\n",
    "\n",
    "\n",
    "asyncio.run(main())                             # total 2 sec."
   ]
  },
  {
   "cell_type": "markdown",
   "metadata": {},
   "source": [
    "## game of life"
   ]
  },
  {
   "cell_type": "code",
   "execution_count": 15,
   "metadata": {},
   "outputs": [
    {
     "name": "stdout",
     "output_type": "stream",
     "text": [
      "---*-----\n",
      "----*----\n",
      "--***----\n",
      "---------\n",
      "---------\n"
     ]
    }
   ],
   "source": [
    "L, D = '*-'\n",
    "\n",
    "class Grid:\n",
    "    def __init__(self, height, width):\n",
    "        self.height, self.width = height, width\n",
    "        self.rows = [[D for _ in range(self.width)] for _ in range(self.height)]\n",
    "\n",
    "    def get(self, r, c):\n",
    "        return self.rows[r % self.height][c % self.width]\n",
    "    \n",
    "    def set(self, r, c, state):\n",
    "        self.rows[r % self.height][c % self.width] = state\n",
    "\n",
    "    def __str__(self):\n",
    "        return '\\n'.join(''.join(row) for row in self.rows)\n",
    "    \n",
    "\n",
    "grid = Grid(5, 9)\n",
    "grid.set(0, 3, L)\n",
    "grid.set(1, 4, L)\n",
    "grid.set(2, 2, L)\n",
    "grid.set(2, 3, L)\n",
    "grid.set(2, 4, L)\n",
    "print(grid)"
   ]
  },
  {
   "cell_type": "code",
   "execution_count": 16,
   "metadata": {},
   "outputs": [
    {
     "name": "stdout",
     "output_type": "stream",
     "text": [
      "    0     |     1     |     2     |     3     |     4    \n",
      "---*----- | --------- | --------- | --------- | ---------\n",
      "----*---- | --*-*---- | ----*---- | ---*----- | ----*----\n",
      "--***---- | ---**---- | --*-*---- | ----**--- | -----*---\n",
      "--------- | ---*----- | ---**---- | ---**---- | ---***---\n",
      "--------- | --------- | --------- | --------- | ---------\n"
     ]
    }
   ],
   "source": [
    "def count_neighbors(r, c, get):     # get(r, c) method\n",
    "    neighbor_states = [get(r+r_, c+c_) for r_ in (-1,0,1) \n",
    "                           for c_ in (-1,0,1) if (r_,c_) != (0, 0)]\n",
    "    return neighbor_states.count(L)\n",
    "\n",
    "def game_logic(state, neighbors):\n",
    "    if state == L:\n",
    "        if neighbors < 2 or neighbors > 3:\n",
    "            return D\n",
    "    else:\n",
    "        if neighbors == 3:\n",
    "            return L\n",
    "    return state\n",
    "\n",
    "def step_cell(r, c, get, set):\n",
    "    state = get(r, c)\n",
    "    neighbors = count_neighbors(r, c, get)\n",
    "    next_state = game_logic(state, neighbors)\n",
    "    set(r, c, next_state)\n",
    "\n",
    "def simulate(grid):\n",
    "    next_grid = Grid(grid.height, grid.width)\n",
    "    for r in range(grid.height):\n",
    "        for c in range(grid.width):\n",
    "            step_cell(r, c, grid.get, next_grid.set)\n",
    "    return next_grid\n",
    "\n",
    "\n",
    "class ColumnPrinter:\n",
    "    def __init__(self):\n",
    "        self.columns = []\n",
    "        self.h, self.w = 0, 0\n",
    "\n",
    "    def append(self, x):\n",
    "        l = len(self.columns)\n",
    "        w = len(x.split('\\n')[0])\n",
    "        self.columns.append(f'{l:^{w}}\\n' + x)\n",
    "\n",
    "    def __str__(self):\n",
    "        l = len(self.columns)\n",
    "        h = len(self.columns[0].split('\\n'))\n",
    "        rows = []\n",
    "        for i in range(h):\n",
    "            row = ' | '.join(self.columns[j].split('\\n')[i] for j in range(l))\n",
    "            rows.append(row)\n",
    "        return '\\n'.join(rows)\n",
    "    \n",
    "columns = ColumnPrinter()\n",
    "for _ in range(5):\n",
    "    columns.append(str(grid))\n",
    "    grid = simulate(grid)\n",
    "print(columns)"
   ]
  },
  {
   "cell_type": "code",
   "execution_count": 17,
   "metadata": {},
   "outputs": [],
   "source": [
    "from threading import Lock\n",
    "\n",
    "\n",
    "class LockingGrid(Grid):\n",
    "\n",
    "    def __init__(self, height, width):\n",
    "        super().__init__(height, width)\n",
    "        self.lock = Lock()\n",
    "\n",
    "    def __str__(self):\n",
    "        with self.lock:\n",
    "            return super().__str__()\n",
    "        \n",
    "    def get(self, r, c):\n",
    "        with self.lock:\n",
    "            return super().get(r, c)\n",
    "        \n",
    "    def set(self, r, c, state):\n",
    "        with self.lock:\n",
    "            return super().set(r, c, state)"
   ]
  },
  {
   "cell_type": "code",
   "execution_count": 18,
   "metadata": {},
   "outputs": [
    {
     "name": "stdout",
     "output_type": "stream",
     "text": [
      "    0     |     1     |     2     |     3     |     4    \n",
      "---*----- | --------- | --------- | --------- | ---------\n",
      "----*---- | --*-*---- | ----*---- | ---*----- | ----*----\n",
      "--***---- | ---**---- | --*-*---- | ----**--- | -----*---\n",
      "--------- | ---*----- | ---**---- | ---**---- | ---***---\n",
      "--------- | --------- | --------- | --------- | ---------\n"
     ]
    }
   ],
   "source": [
    "from concurrent.futures import ThreadPoolExecutor\n",
    "\n",
    "\n",
    "def simulate_pool(pool, grid):\n",
    "    next_grid = LockingGrid(grid.height, grid.width)\n",
    "    futures = []\n",
    "    for r in range(grid.height):\n",
    "        for c in range(grid.width):\n",
    "            args = (r, c, grid.get, next_grid.set)\n",
    "            future = pool.submit(step_cell, *args)      # fan out\n",
    "            futures.append(future)\n",
    "\n",
    "    for future in futures:\n",
    "        future.result()                                 # fan in\n",
    "\n",
    "    return next_grid\n",
    "\n",
    "\n",
    "grid = LockingGrid(5, 9)\n",
    "grid.set(0, 3, L)\n",
    "grid.set(1, 4, L)\n",
    "grid.set(2, 2, L)\n",
    "grid.set(2, 3, L)\n",
    "grid.set(2, 4, L)\n",
    "\n",
    "columns = ColumnPrinter()\n",
    "with ThreadPoolExecutor(max_workers=10) as pool:\n",
    "    for _ in range(5):\n",
    "        columns.append(str(grid))\n",
    "        grid = simulate_pool(pool, grid)\n",
    "\n",
    "print(columns)"
   ]
  },
  {
   "cell_type": "code",
   "execution_count": 19,
   "metadata": {},
   "outputs": [
    {
     "ename": "RuntimeError",
     "evalue": "asyncio.run() cannot be called from a running event loop",
     "output_type": "error",
     "traceback": [
      "\u001b[0;31m---------------------------------------------------------------------------\u001b[0m",
      "\u001b[0;31mRuntimeError\u001b[0m                              Traceback (most recent call last)",
      "Cell \u001b[0;32mIn[19], line 42\u001b[0m\n\u001b[1;32m     40\u001b[0m \u001b[38;5;28;01mfor\u001b[39;00m _ \u001b[38;5;129;01min\u001b[39;00m \u001b[38;5;28mrange\u001b[39m(\u001b[38;5;241m5\u001b[39m):\n\u001b[1;32m     41\u001b[0m     columns\u001b[38;5;241m.\u001b[39mappend(\u001b[38;5;28mstr\u001b[39m(grid))\n\u001b[0;32m---> 42\u001b[0m     grid \u001b[38;5;241m=\u001b[39m asyncio\u001b[38;5;241m.\u001b[39mrun(simulate(grid))                              \u001b[38;5;66;03m# run the event loop\u001b[39;00m\n\u001b[1;32m     43\u001b[0m \u001b[38;5;28mprint\u001b[39m(columns)\n",
      "File \u001b[0;32m/opt/homebrew/Caskroom/miniconda/base/envs/py311/lib/python3.11/asyncio/runners.py:186\u001b[0m, in \u001b[0;36mrun\u001b[0;34m(main, debug)\u001b[0m\n\u001b[1;32m    161\u001b[0m \u001b[38;5;124;03m\"\"\"Execute the coroutine and return the result.\u001b[39;00m\n\u001b[1;32m    162\u001b[0m \n\u001b[1;32m    163\u001b[0m \u001b[38;5;124;03mThis function runs the passed coroutine, taking care of\u001b[39;00m\n\u001b[0;32m   (...)\u001b[0m\n\u001b[1;32m    182\u001b[0m \u001b[38;5;124;03m    asyncio.run(main())\u001b[39;00m\n\u001b[1;32m    183\u001b[0m \u001b[38;5;124;03m\"\"\"\u001b[39;00m\n\u001b[1;32m    184\u001b[0m \u001b[38;5;28;01mif\u001b[39;00m events\u001b[38;5;241m.\u001b[39m_get_running_loop() \u001b[38;5;129;01mis\u001b[39;00m \u001b[38;5;129;01mnot\u001b[39;00m \u001b[38;5;28;01mNone\u001b[39;00m:\n\u001b[1;32m    185\u001b[0m     \u001b[38;5;66;03m# fail fast with short traceback\u001b[39;00m\n\u001b[0;32m--> 186\u001b[0m     \u001b[38;5;28;01mraise\u001b[39;00m \u001b[38;5;167;01mRuntimeError\u001b[39;00m(\n\u001b[1;32m    187\u001b[0m         \u001b[38;5;124m\"\u001b[39m\u001b[38;5;124masyncio.run() cannot be called from a running event loop\u001b[39m\u001b[38;5;124m\"\u001b[39m)\n\u001b[1;32m    189\u001b[0m \u001b[38;5;28;01mwith\u001b[39;00m Runner(debug\u001b[38;5;241m=\u001b[39mdebug) \u001b[38;5;28;01mas\u001b[39;00m runner:\n\u001b[1;32m    190\u001b[0m     \u001b[38;5;28;01mreturn\u001b[39;00m runner\u001b[38;5;241m.\u001b[39mrun(main)\n",
      "\u001b[0;31mRuntimeError\u001b[0m: asyncio.run() cannot be called from a running event loop"
     ]
    }
   ],
   "source": [
    "async def game_logic(state, neighbors):\n",
    "    if state == L:\n",
    "        if neighbors < 2 or neighbors > 3:\n",
    "            return D\n",
    "    else:\n",
    "        if neighbors == 3:\n",
    "            return L\n",
    "    return state\n",
    "\n",
    "async def step_cell(r, c, get, set):\n",
    "    state = get(r, c)\n",
    "    neighbors = count_neighbors(r, c, get)\n",
    "    next_state = await game_logic(state, neighbors)\n",
    "    set(r, c, next_state)\n",
    "\n",
    "import asyncio\n",
    "\n",
    "\n",
    "async def simulate(grid):\n",
    "    next_grid = Grid(grid.height, grid.width)\n",
    "    \n",
    "    tasks = []\n",
    "    for r in range(grid.height):\n",
    "        for c in range(grid.width):\n",
    "            task = step_cell(r, c, grid.get, next_grid.set)         # fan out\n",
    "            tasks.append(task)\n",
    "\n",
    "    await asyncio.gather(*tasks)                                    # fan in\n",
    "    return next_grid\n",
    "\n",
    "\n",
    "grid = Grid(5, 9)\n",
    "grid.set(0, 3, L)\n",
    "grid.set(1, 4, L)\n",
    "grid.set(2, 2, L)\n",
    "grid.set(2, 3, L)\n",
    "grid.set(2, 4, L)\n",
    "\n",
    "columns = ColumnPrinter()\n",
    "for _ in range(5):\n",
    "    columns.append(str(grid))\n",
    "    grid = asyncio.run(simulate(grid))                              # run the event loop\n",
    "print(columns)"
   ]
  },
  {
   "cell_type": "markdown",
   "metadata": {},
   "source": [
    "## downloading country flags"
   ]
  },
  {
   "cell_type": "code",
   "execution_count": 20,
   "metadata": {},
   "outputs": [],
   "source": [
    "# sequential download\n",
    "\n",
    "import time\n",
    "from pathlib import Path\n",
    "import httpx\n",
    "\n",
    "pop20_cc = ('CN IN US ID BR PK NG BD RU JP '\n",
    "            'MX PH VN ET EG DE IR TR CD FR').split()\n",
    "\n",
    "base_url = 'https://www.fluentpython.com/data/flags'\n",
    "dest_dir = Path('downloaded')\n",
    "\n",
    "def save_flag(img, filename):\n",
    "    (dest_dir / filename).write_bytes(img)\n",
    "\n",
    "def get_flag(cc):\n",
    "    url = f'{base_url}/{cc}/{cc}.gif'.lower()\n",
    "    resp = httpx.get(url, timeout=6.1, follow_redirects=True)\n",
    "    resp.raise_for_status()\n",
    "    return resp.content\n",
    "\n",
    "def download_many(cc_list):\n",
    "    for cc in sorted(cc_list):\n",
    "        image = get_flag(cc)\n",
    "        save_flag(image, f'{cc}.gif')\n",
    "        print(cc, end=' ', flush=True)\n",
    "    return len(cc_list)\n",
    "\n",
    "def main(downloader):\n",
    "    dest_dir.mkdir(exist_ok=True)\n",
    "    t0 = time.perf_counter()\n",
    "    count = downloader(pop20_cc)\n",
    "    elapsed = time.perf_counter() - t0\n",
    "    print(f'\\n{count} downloads in {elapsed:.2f}s')\n",
    "\n",
    "# main(download_many)"
   ]
  },
  {
   "cell_type": "code",
   "execution_count": null,
   "metadata": {},
   "outputs": [],
   "source": [
    "from concurrent import futures\n",
    "\n",
    "def download_one(cc):\n",
    "    image = get_flag(cc)\n",
    "    save_flag(image, f'{cc}.gif')\n",
    "    print(cc, end=' ', flush=True)\n",
    "    return cc\n",
    "\n",
    "def download_many(cc_list):\n",
    "    with futures.ThreadPoolExecutor() as executor:\n",
    "        res = executor.map(download_one, sorted(cc_list))\n",
    "\n",
    "    return len(list(res))"
   ]
  }
 ],
 "metadata": {
  "kernelspec": {
   "display_name": "py311",
   "language": "python",
   "name": "python3"
  },
  "language_info": {
   "codemirror_mode": {
    "name": "ipython",
    "version": 3
   },
   "file_extension": ".py",
   "mimetype": "text/x-python",
   "name": "python",
   "nbconvert_exporter": "python",
   "pygments_lexer": "ipython3",
   "version": "3.11.4"
  }
 },
 "nbformat": 4,
 "nbformat_minor": 2
}
